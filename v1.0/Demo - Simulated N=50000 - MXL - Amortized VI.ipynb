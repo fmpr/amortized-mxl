{
 "cells": [
  {
   "cell_type": "markdown",
   "metadata": {},
   "source": [
    "# Demo of Amortized VI using simulated data for 50000 individuals\n",
    "\n",
    "We begin by performing the necessary imports:"
   ]
  },
  {
   "cell_type": "code",
   "execution_count": 1,
   "metadata": {},
   "outputs": [],
   "source": [
    "import os\n",
    "os.environ[\"CUDA_VISIBLE_DEVICES\"]=\"0\"\n",
    "\n",
    "import logging\n",
    "import time\n",
    "import matplotlib.pyplot as plt\n",
    "import numpy as np\n",
    "import pandas as pd\n",
    "\n",
    "# Fix random seed for reproducibility\n",
    "np.random.seed(42)"
   ]
  },
  {
   "cell_type": "markdown",
   "metadata": {},
   "source": [
    "# Generate simulated data\n",
    "\n",
    "We predefine the fixed effects parameters (true_alpha) and random effects parameters (true_beta), as well as the covariance matrix (true_Omega), and sample simulated choice data for 50000 respondents (num_resp), each with 10 choice situations (num_menus). The number of choice alternatives is set to 5. "
   ]
  },
  {
   "cell_type": "code",
   "execution_count": 2,
   "metadata": {},
   "outputs": [
    {
     "name": "stdout",
     "output_type": "stream",
     "text": [
      "Generating fake data...\n",
      "Error: 46.0406\n"
     ]
    },
    {
     "data": {
      "text/html": [
       "<div>\n",
       "<style scoped>\n",
       "    .dataframe tbody tr th:only-of-type {\n",
       "        vertical-align: middle;\n",
       "    }\n",
       "\n",
       "    .dataframe tbody tr th {\n",
       "        vertical-align: top;\n",
       "    }\n",
       "\n",
       "    .dataframe thead th {\n",
       "        text-align: right;\n",
       "    }\n",
       "</style>\n",
       "<table border=\"1\" class=\"dataframe\">\n",
       "  <thead>\n",
       "    <tr style=\"text-align: right;\">\n",
       "      <th></th>\n",
       "      <th>ALT1_XF1</th>\n",
       "      <th>ALT1_XF2</th>\n",
       "      <th>ALT1_XF3</th>\n",
       "      <th>ALT1_XR1</th>\n",
       "      <th>ALT1_XR2</th>\n",
       "      <th>ALT1_XR3</th>\n",
       "      <th>ALT1_XR4</th>\n",
       "      <th>ALT1_XR5</th>\n",
       "      <th>ALT2_XF1</th>\n",
       "      <th>ALT2_XF2</th>\n",
       "      <th>...</th>\n",
       "      <th>ALT5_XR1</th>\n",
       "      <th>ALT5_XR2</th>\n",
       "      <th>ALT5_XR3</th>\n",
       "      <th>ALT5_XR4</th>\n",
       "      <th>ALT5_XR5</th>\n",
       "      <th>choice</th>\n",
       "      <th>indID</th>\n",
       "      <th>menuID</th>\n",
       "      <th>obsID</th>\n",
       "      <th>ones</th>\n",
       "    </tr>\n",
       "  </thead>\n",
       "  <tbody>\n",
       "    <tr>\n",
       "      <th>0</th>\n",
       "      <td>0.374540</td>\n",
       "      <td>0.950714</td>\n",
       "      <td>0.731994</td>\n",
       "      <td>0.340311</td>\n",
       "      <td>0.768842</td>\n",
       "      <td>0.936032</td>\n",
       "      <td>0.481857</td>\n",
       "      <td>0.802253</td>\n",
       "      <td>0.598658</td>\n",
       "      <td>0.156019</td>\n",
       "      <td>...</td>\n",
       "      <td>0.809189</td>\n",
       "      <td>0.914568</td>\n",
       "      <td>0.789045</td>\n",
       "      <td>0.110962</td>\n",
       "      <td>0.312995</td>\n",
       "      <td>1</td>\n",
       "      <td>0</td>\n",
       "      <td>0</td>\n",
       "      <td>0</td>\n",
       "      <td>1</td>\n",
       "    </tr>\n",
       "    <tr>\n",
       "      <th>1</th>\n",
       "      <td>0.183405</td>\n",
       "      <td>0.304242</td>\n",
       "      <td>0.524756</td>\n",
       "      <td>0.194837</td>\n",
       "      <td>0.796218</td>\n",
       "      <td>0.651730</td>\n",
       "      <td>0.237908</td>\n",
       "      <td>0.199814</td>\n",
       "      <td>0.431945</td>\n",
       "      <td>0.291229</td>\n",
       "      <td>...</td>\n",
       "      <td>0.536775</td>\n",
       "      <td>0.940645</td>\n",
       "      <td>0.826931</td>\n",
       "      <td>0.510653</td>\n",
       "      <td>0.914976</td>\n",
       "      <td>4</td>\n",
       "      <td>0</td>\n",
       "      <td>1</td>\n",
       "      <td>1</td>\n",
       "      <td>1</td>\n",
       "    </tr>\n",
       "    <tr>\n",
       "      <th>2</th>\n",
       "      <td>0.607545</td>\n",
       "      <td>0.170524</td>\n",
       "      <td>0.065052</td>\n",
       "      <td>0.485441</td>\n",
       "      <td>0.186343</td>\n",
       "      <td>0.322737</td>\n",
       "      <td>0.514758</td>\n",
       "      <td>0.090070</td>\n",
       "      <td>0.948886</td>\n",
       "      <td>0.965632</td>\n",
       "      <td>...</td>\n",
       "      <td>0.595050</td>\n",
       "      <td>0.947324</td>\n",
       "      <td>0.927226</td>\n",
       "      <td>0.962351</td>\n",
       "      <td>0.211986</td>\n",
       "      <td>3</td>\n",
       "      <td>0</td>\n",
       "      <td>2</td>\n",
       "      <td>2</td>\n",
       "      <td>1</td>\n",
       "    </tr>\n",
       "    <tr>\n",
       "      <th>3</th>\n",
       "      <td>0.662522</td>\n",
       "      <td>0.311711</td>\n",
       "      <td>0.520068</td>\n",
       "      <td>0.442947</td>\n",
       "      <td>0.350437</td>\n",
       "      <td>0.031725</td>\n",
       "      <td>0.790190</td>\n",
       "      <td>0.481335</td>\n",
       "      <td>0.546710</td>\n",
       "      <td>0.184854</td>\n",
       "      <td>...</td>\n",
       "      <td>0.846481</td>\n",
       "      <td>0.875187</td>\n",
       "      <td>0.624215</td>\n",
       "      <td>0.993924</td>\n",
       "      <td>0.414757</td>\n",
       "      <td>4</td>\n",
       "      <td>0</td>\n",
       "      <td>3</td>\n",
       "      <td>3</td>\n",
       "      <td>1</td>\n",
       "    </tr>\n",
       "    <tr>\n",
       "      <th>4</th>\n",
       "      <td>0.388677</td>\n",
       "      <td>0.271349</td>\n",
       "      <td>0.828738</td>\n",
       "      <td>0.011319</td>\n",
       "      <td>0.689977</td>\n",
       "      <td>0.119363</td>\n",
       "      <td>0.251674</td>\n",
       "      <td>0.674041</td>\n",
       "      <td>0.356753</td>\n",
       "      <td>0.280935</td>\n",
       "      <td>...</td>\n",
       "      <td>0.890742</td>\n",
       "      <td>0.984823</td>\n",
       "      <td>0.531394</td>\n",
       "      <td>0.295977</td>\n",
       "      <td>0.364010</td>\n",
       "      <td>2</td>\n",
       "      <td>0</td>\n",
       "      <td>4</td>\n",
       "      <td>4</td>\n",
       "      <td>1</td>\n",
       "    </tr>\n",
       "  </tbody>\n",
       "</table>\n",
       "<p>5 rows × 45 columns</p>\n",
       "</div>"
      ],
      "text/plain": [
       "   ALT1_XF1  ALT1_XF2  ALT1_XF3  ALT1_XR1  ALT1_XR2  ALT1_XR3  ALT1_XR4  \\\n",
       "0  0.374540  0.950714  0.731994  0.340311  0.768842  0.936032  0.481857   \n",
       "1  0.183405  0.304242  0.524756  0.194837  0.796218  0.651730  0.237908   \n",
       "2  0.607545  0.170524  0.065052  0.485441  0.186343  0.322737  0.514758   \n",
       "3  0.662522  0.311711  0.520068  0.442947  0.350437  0.031725  0.790190   \n",
       "4  0.388677  0.271349  0.828738  0.011319  0.689977  0.119363  0.251674   \n",
       "\n",
       "   ALT1_XR5  ALT2_XF1  ALT2_XF2  ...  ALT5_XR1  ALT5_XR2  ALT5_XR3  ALT5_XR4  \\\n",
       "0  0.802253  0.598658  0.156019  ...  0.809189  0.914568  0.789045  0.110962   \n",
       "1  0.199814  0.431945  0.291229  ...  0.536775  0.940645  0.826931  0.510653   \n",
       "2  0.090070  0.948886  0.965632  ...  0.595050  0.947324  0.927226  0.962351   \n",
       "3  0.481335  0.546710  0.184854  ...  0.846481  0.875187  0.624215  0.993924   \n",
       "4  0.674041  0.356753  0.280935  ...  0.890742  0.984823  0.531394  0.295977   \n",
       "\n",
       "   ALT5_XR5  choice  indID  menuID  obsID  ones  \n",
       "0  0.312995       1      0       0      0     1  \n",
       "1  0.914976       4      0       1      1     1  \n",
       "2  0.211986       3      0       2      2     1  \n",
       "3  0.414757       4      0       3      3     1  \n",
       "4  0.364010       2      0       4      4     1  \n",
       "\n",
       "[5 rows x 45 columns]"
      ]
     },
     "execution_count": 2,
     "metadata": {},
     "output_type": "execute_result"
    }
   ],
   "source": [
    "from core.dcm_fakedata import generate_fake_data_wide\n",
    "\n",
    "num_resp = 50000\n",
    "num_menus = 10\n",
    "num_alternatives = 5\n",
    "\n",
    "true_alpha = np.array([-0.8, 0.8, 1.2])\n",
    "true_beta = np.array([-0.8, 0.8, 1.0, -0.8, 1.5])\n",
    "# dynamic version of generating Omega\n",
    "corr = 0.8\n",
    "scale_factor = 1.0\n",
    "true_Omega = corr*np.ones((len(true_beta),len(true_beta))) # off-diagonal values of cov matrix\n",
    "true_Omega[np.arange(len(true_beta)), np.arange(len(true_beta))] = 1.0 # diagonal values of cov matrix\n",
    "true_Omega *= scale_factor\n",
    "\n",
    "df = generate_fake_data_wide(num_resp, num_menus, num_alternatives, true_alpha, true_beta, true_Omega)\n",
    "df.head()"
   ]
  },
  {
   "cell_type": "markdown",
   "metadata": {},
   "source": [
    "# Mixed Logit specification\n",
    "\n",
    "We now make use of the developed formula interface to specify the utilities of the mixed logit model. \n",
    "\n",
    "We begin by defining the fixed effects parameters, the random effects parameters, and the observed variables. This creates instances of Python objects that can be put together to define the utility functions for the different alternatives.\n",
    "\n",
    "Once the utilities are defined, we collect them in a Python dictionary mapping alternative names to their corresponding expressions."
   ]
  },
  {
   "cell_type": "code",
   "execution_count": 3,
   "metadata": {},
   "outputs": [],
   "source": [
    "from core.dcm_interface import FixedEffect, RandomEffect, ObservedVariable\n",
    "\n",
    "# define fixed effects parameters\n",
    "B_XF1 = FixedEffect('BETA_XF1')\n",
    "B_XF2 = FixedEffect('BETA_XF2')\n",
    "B_XF3 = FixedEffect('BETA_XF3')\n",
    "\n",
    "# define random effects parameters\n",
    "B_XR1 = RandomEffect('BETA_XR1')\n",
    "B_XR2 = RandomEffect('BETA_XR2')\n",
    "B_XR3 = RandomEffect('BETA_XR3')\n",
    "B_XR4 = RandomEffect('BETA_XR4')\n",
    "B_XR5 = RandomEffect('BETA_XR5')\n",
    "\n",
    "# define observed variables\n",
    "for attr in df.columns:\n",
    "    exec(\"%s = ObservedVariable('%s')\" % (attr,attr))\n",
    "\n",
    "# define utility functions\n",
    "V1 = B_XF1*ALT1_XF1 + B_XF2*ALT1_XF2 + B_XF3*ALT1_XF3 + B_XR1*ALT1_XR1 + B_XR2*ALT1_XR2 + B_XR3*ALT1_XR3 + B_XR4*ALT1_XR4 + B_XR5*ALT1_XR5\n",
    "V2 = B_XF1*ALT2_XF1 + B_XF2*ALT2_XF2 + B_XF3*ALT2_XF3 + B_XR1*ALT2_XR1 + B_XR2*ALT2_XR2 + B_XR3*ALT2_XR3 + B_XR4*ALT2_XR4 + B_XR5*ALT2_XR5\n",
    "V3 = B_XF1*ALT3_XF1 + B_XF2*ALT3_XF2 + B_XF3*ALT3_XF3 + B_XR1*ALT3_XR1 + B_XR2*ALT3_XR2 + B_XR3*ALT3_XR3 + B_XR4*ALT3_XR4 + B_XR5*ALT3_XR5\n",
    "V4 = B_XF1*ALT4_XF1 + B_XF2*ALT4_XF2 + B_XF3*ALT4_XF3 + B_XR1*ALT4_XR1 + B_XR2*ALT4_XR2 + B_XR3*ALT4_XR3 + B_XR4*ALT4_XR4 + B_XR5*ALT4_XR5\n",
    "V5 = B_XF1*ALT5_XF1 + B_XF2*ALT5_XF2 + B_XF3*ALT5_XF3 + B_XR1*ALT5_XR1 + B_XR2*ALT5_XR2 + B_XR3*ALT5_XR3 + B_XR4*ALT5_XR4 + B_XR5*ALT5_XR5\n",
    "\n",
    "# associate utility functions with the names of the alternatives\n",
    "utilities = {\"ALT1\": V1, \"ALT2\": V2, \"ALT3\": V3, \"ALT4\": V4, \"ALT5\": V5}"
   ]
  },
  {
   "cell_type": "markdown",
   "metadata": {},
   "source": [
    "We are now ready to create a Specification object containing the utilities that we have just defined. Note that we must also specify the type of choice model to be used - a mixed logit model (MXL) in this case.\n",
    "\n",
    "Note that we can inspect the specification by printing the dcm_spec object."
   ]
  },
  {
   "cell_type": "code",
   "execution_count": 4,
   "metadata": {},
   "outputs": [
    {
     "name": "stdout",
     "output_type": "stream",
     "text": [
      "----------------- MXL specification:\n",
      "Alternatives: ['ALT1', 'ALT2', 'ALT3', 'ALT4', 'ALT5']\n",
      "Utility functions:\n",
      "   V_ALT1 = BETA_XF1*ALT1_XF1 + BETA_XF2*ALT1_XF2 + BETA_XF3*ALT1_XF3 + BETA_XR1_n*ALT1_XR1 + BETA_XR2_n*ALT1_XR2 + BETA_XR3_n*ALT1_XR3 + BETA_XR4_n*ALT1_XR4 + BETA_XR5_n*ALT1_XR5\n",
      "   V_ALT2 = BETA_XF1*ALT2_XF1 + BETA_XF2*ALT2_XF2 + BETA_XF3*ALT2_XF3 + BETA_XR1_n*ALT2_XR1 + BETA_XR2_n*ALT2_XR2 + BETA_XR3_n*ALT2_XR3 + BETA_XR4_n*ALT2_XR4 + BETA_XR5_n*ALT2_XR5\n",
      "   V_ALT3 = BETA_XF1*ALT3_XF1 + BETA_XF2*ALT3_XF2 + BETA_XF3*ALT3_XF3 + BETA_XR1_n*ALT3_XR1 + BETA_XR2_n*ALT3_XR2 + BETA_XR3_n*ALT3_XR3 + BETA_XR4_n*ALT3_XR4 + BETA_XR5_n*ALT3_XR5\n",
      "   V_ALT4 = BETA_XF1*ALT4_XF1 + BETA_XF2*ALT4_XF2 + BETA_XF3*ALT4_XF3 + BETA_XR1_n*ALT4_XR1 + BETA_XR2_n*ALT4_XR2 + BETA_XR3_n*ALT4_XR3 + BETA_XR4_n*ALT4_XR4 + BETA_XR5_n*ALT4_XR5\n",
      "   V_ALT5 = BETA_XF1*ALT5_XF1 + BETA_XF2*ALT5_XF2 + BETA_XF3*ALT5_XF3 + BETA_XR1_n*ALT5_XR1 + BETA_XR2_n*ALT5_XR2 + BETA_XR3_n*ALT5_XR3 + BETA_XR4_n*ALT5_XR4 + BETA_XR5_n*ALT5_XR5\n",
      "\n",
      "Num. parameters to be estimated: 8\n",
      "Fixed effects params: ['BETA_XF1', 'BETA_XF2', 'BETA_XF3']\n",
      "Random effects params: ['BETA_XR1', 'BETA_XR2', 'BETA_XR3', 'BETA_XR4', 'BETA_XR5']\n"
     ]
    }
   ],
   "source": [
    "from core.dcm_interface import Specification\n",
    "\n",
    "# create MXL specification object based on the utilities previously defined\n",
    "dcm_spec = Specification('MXL', utilities)\n",
    "print(dcm_spec)"
   ]
  },
  {
   "cell_type": "markdown",
   "metadata": {},
   "source": [
    "Once the Specification is defined, we need to define the DCM Dataset object that goes along with it. For this, we instantiate the Dataset class with the Pandas dataframe containing the data in the so-called \"wide format\", the name of column in the dataframe containing the observed choices and the dcm_spec that we have previously created.\n",
    "\n",
    "Note that since this is panel data, we must also specify the name of the column in the dataframe that contains the ID of the respondent (this should be a integer ranging from 0 the num_resp-1)."
   ]
  },
  {
   "cell_type": "code",
   "execution_count": 5,
   "metadata": {
    "scrolled": false
   },
   "outputs": [
    {
     "name": "stdout",
     "output_type": "stream",
     "text": [
      "Preparing dataset...\n",
      "\tModel type: MXL\n",
      "\tNum. observations: 500000\n",
      "\tNum. alternatives: 5\n",
      "\tNum. respondents: 50000\n",
      "\tNum. menus: 10\n",
      "\tObservations IDs: [     0      1      2 ... 499997 499998 499999]\n",
      "\tAlternative IDs: None\n",
      "\tRespondent IDs: [    0     0     0 ... 49999 49999 49999]\n",
      "\tAvailability columns: None\n",
      "\tAttribute names: ['ALT1_XF1', 'ALT1_XF2', 'ALT1_XF3', 'ALT1_XR1', 'ALT1_XR2', 'ALT1_XR3', 'ALT1_XR4', 'ALT1_XR5', 'ALT2_XF1', 'ALT2_XF2', 'ALT2_XF3', 'ALT2_XR1', 'ALT2_XR2', 'ALT2_XR3', 'ALT2_XR4', 'ALT2_XR5', 'ALT3_XF1', 'ALT3_XF2', 'ALT3_XF3', 'ALT3_XR1', 'ALT3_XR2', 'ALT3_XR3', 'ALT3_XR4', 'ALT3_XR5', 'ALT4_XF1', 'ALT4_XF2', 'ALT4_XF3', 'ALT4_XR1', 'ALT4_XR2', 'ALT4_XR3', 'ALT4_XR4', 'ALT4_XR5', 'ALT5_XF1', 'ALT5_XF2', 'ALT5_XF3', 'ALT5_XR1', 'ALT5_XR2', 'ALT5_XR3', 'ALT5_XR4', 'ALT5_XR5']\n",
      "\tFixed effects attribute names: ['ALT1_XF1', 'ALT1_XF2', 'ALT1_XF3', 'ALT2_XF1', 'ALT2_XF2', 'ALT2_XF3', 'ALT3_XF1', 'ALT3_XF2', 'ALT3_XF3', 'ALT4_XF1', 'ALT4_XF2', 'ALT4_XF3', 'ALT5_XF1', 'ALT5_XF2', 'ALT5_XF3']\n",
      "\tFixed effects parameter names: ['BETA_XF1', 'BETA_XF2', 'BETA_XF3', 'BETA_XF1', 'BETA_XF2', 'BETA_XF3', 'BETA_XF1', 'BETA_XF2', 'BETA_XF3', 'BETA_XF1', 'BETA_XF2', 'BETA_XF3', 'BETA_XF1', 'BETA_XF2', 'BETA_XF3']\n",
      "\tRandom effects attribute names: ['ALT1_XR1', 'ALT1_XR2', 'ALT1_XR3', 'ALT1_XR4', 'ALT1_XR5', 'ALT2_XR1', 'ALT2_XR2', 'ALT2_XR3', 'ALT2_XR4', 'ALT2_XR5', 'ALT3_XR1', 'ALT3_XR2', 'ALT3_XR3', 'ALT3_XR4', 'ALT3_XR5', 'ALT4_XR1', 'ALT4_XR2', 'ALT4_XR3', 'ALT4_XR4', 'ALT4_XR5', 'ALT5_XR1', 'ALT5_XR2', 'ALT5_XR3', 'ALT5_XR4', 'ALT5_XR5']\n",
      "\tRandom effects parameter names: ['BETA_XR1', 'BETA_XR2', 'BETA_XR3', 'BETA_XR4', 'BETA_XR5', 'BETA_XR1', 'BETA_XR2', 'BETA_XR3', 'BETA_XR4', 'BETA_XR5', 'BETA_XR1', 'BETA_XR2', 'BETA_XR3', 'BETA_XR4', 'BETA_XR5', 'BETA_XR1', 'BETA_XR2', 'BETA_XR3', 'BETA_XR4', 'BETA_XR5', 'BETA_XR1', 'BETA_XR2', 'BETA_XR3', 'BETA_XR4', 'BETA_XR5']\n",
      "\tAlternative attributes ndarray.shape: (50000, 10, 40)\n",
      "\tChoices ndarray.shape: (50000, 10)\n",
      "\tAlternatives availability ndarray.shape: (50000, 10, 5)\n",
      "\tData mask ndarray.shape: (50000, 10)\n",
      "\tContext data ndarray.shape: (50000, 0)\n",
      "Done!\n"
     ]
    }
   ],
   "source": [
    "from core.dcm_interface import Dataset\n",
    "\n",
    "# create DCM dataset object\n",
    "dcm_dataset = Dataset(df, 'choice', dcm_spec, resp_id_col='indID')"
   ]
  },
  {
   "cell_type": "markdown",
   "metadata": {},
   "source": [
    "As with the specification, we can inspect the DCM dataset by printing the dcm_dataset object:"
   ]
  },
  {
   "cell_type": "code",
   "execution_count": 6,
   "metadata": {
    "scrolled": false
   },
   "outputs": [
    {
     "name": "stdout",
     "output_type": "stream",
     "text": [
      "----------------- DCM dataset:\n",
      "Model type: MXL\n",
      "Num. observations: 500000\n",
      "Num. alternatives: 5\n",
      "Num. respondents: 50000\n",
      "Num. menus: 10\n",
      "Num. fixed effects: 15\n",
      "Num. random effects: 25\n",
      "Attribute names: ['ALT1_XF1', 'ALT1_XF2', 'ALT1_XF3', 'ALT1_XR1', 'ALT1_XR2', 'ALT1_XR3', 'ALT1_XR4', 'ALT1_XR5', 'ALT2_XF1', 'ALT2_XF2', 'ALT2_XF3', 'ALT2_XR1', 'ALT2_XR2', 'ALT2_XR3', 'ALT2_XR4', 'ALT2_XR5', 'ALT3_XF1', 'ALT3_XF2', 'ALT3_XF3', 'ALT3_XR1', 'ALT3_XR2', 'ALT3_XR3', 'ALT3_XR4', 'ALT3_XR5', 'ALT4_XF1', 'ALT4_XF2', 'ALT4_XF3', 'ALT4_XR1', 'ALT4_XR2', 'ALT4_XR3', 'ALT4_XR4', 'ALT4_XR5', 'ALT5_XF1', 'ALT5_XF2', 'ALT5_XF3', 'ALT5_XR1', 'ALT5_XR2', 'ALT5_XR3', 'ALT5_XR4', 'ALT5_XR5']\n"
     ]
    }
   ],
   "source": [
    "print(dcm_dataset)"
   ]
  },
  {
   "cell_type": "markdown",
   "metadata": {},
   "source": [
    "# Bayesian Mixed Logit Model in PyTorch\n",
    "\n",
    "It is now time to perform approximate Bayesian inference on the mixed logit model that we have specified. The generative process of the MXL model that we will be using is the following:\n",
    "\n",
    "1. Draw fixed taste parameters $\\boldsymbol\\alpha \\sim \\mathcal{N}(\\boldsymbol\\lambda_0, \\boldsymbol\\Xi_0)$\n",
    "2. Draw mean vector $\\boldsymbol\\zeta \\sim \\mathcal{N}(\\boldsymbol\\mu_0, \\boldsymbol\\Sigma_0)$\n",
    "3. Draw scales vector $\\boldsymbol\\theta \\sim \\mbox{half-Cauchy}(\\boldsymbol\\sigma_0)$\n",
    "4. Draw correlation matrix $\\boldsymbol\\Psi \\sim \\mbox{LKJ}(\\nu)$\n",
    "5. For each decision-maker $n \\in \\{1,\\dots,N\\}$\n",
    "    1. Draw random taste parameters $\\boldsymbol\\beta_n \\sim \\mathcal{N}(\\boldsymbol\\zeta,\\boldsymbol\\Omega)$\n",
    "    2. For each choice occasion $t \\in \\{1,\\dots,T_n\\}$\n",
    "        1. Draw observed choice $y_{nt} \\sim \\mbox{MNL}(\\boldsymbol\\alpha, \\boldsymbol\\beta_n, \\textbf{X}_{nt})$\n",
    "        \n",
    "where $\\boldsymbol\\Omega = \\mbox{diag}(\\boldsymbol\\theta) \\times \\boldsymbol\\Psi \\times  \\mbox{diag}(\\boldsymbol\\theta)$.\n",
    "\n",
    "We can instantiate this model from the TorchMXL using the following code. We can the run variational inference to approximate the posterior distribution of the latent variables in the model. Note that since in this case we know the true parameters that were used to generate the simualated choice data, we can pass them to the \"infer\" method in order to obtain additional information during the ELBO maximization (useful for tracking the progress of VI and for other debugging purposes). \n",
    "\n",
    "Note that we set use_inference_net to True, in order to make use of the inference network for amortizing the cost of variational inference."
   ]
  },
  {
   "cell_type": "code",
   "execution_count": 7,
   "metadata": {},
   "outputs": [
    {
     "name": "stdout",
     "output_type": "stream",
     "text": [
      "[Epoch     0] ELBO: 1442034; Loglik: -932161; Acc.: 0.257; Alpha RMSE: 0.954; Beta RMSE: 1.019\n",
      "[Epoch   100] ELBO: 1169226; Loglik: -872224; Acc.: 0.260; Alpha RMSE: 0.495; Beta RMSE: 0.889\n",
      "[Epoch   200] ELBO: 956950; Loglik: -817988; Acc.: 0.287; Alpha RMSE: 0.236; Beta RMSE: 0.770\n",
      "[Epoch   300] ELBO: 920966; Loglik: -786866; Acc.: 0.332; Alpha RMSE: 0.119; Beta RMSE: 0.653\n",
      "[Epoch   400] ELBO: 905896; Loglik: -799254; Acc.: 0.332; Alpha RMSE: 0.051; Beta RMSE: 0.546\n",
      "[Epoch   500] ELBO: 887227; Loglik: -790259; Acc.: 0.336; Alpha RMSE: 0.006; Beta RMSE: 0.453\n",
      "[Epoch   600] ELBO: 896000; Loglik: -788075; Acc.: 0.335; Alpha RMSE: 0.022; Beta RMSE: 0.377\n",
      "[Epoch   700] ELBO: 863146; Loglik: -787136; Acc.: 0.339; Alpha RMSE: 0.028; Beta RMSE: 0.316\n",
      "[Epoch   800] ELBO: 872643; Loglik: -801309; Acc.: 0.329; Alpha RMSE: 0.040; Beta RMSE: 0.250\n",
      "[Epoch   900] ELBO: 876170; Loglik: -787473; Acc.: 0.344; Alpha RMSE: 0.005; Beta RMSE: 0.188\n",
      "[Epoch  1000] ELBO: 836478; Loglik: -781759; Acc.: 0.346; Alpha RMSE: 0.009; Beta RMSE: 0.156\n",
      "[Epoch  1100] ELBO: 841694; Loglik: -781130; Acc.: 0.347; Alpha RMSE: 0.021; Beta RMSE: 0.119\n",
      "[Epoch  1200] ELBO: 843686; Loglik: -777046; Acc.: 0.349; Alpha RMSE: 0.021; Beta RMSE: 0.091\n",
      "[Epoch  1300] ELBO: 834063; Loglik: -773819; Acc.: 0.353; Alpha RMSE: 0.009; Beta RMSE: 0.073\n",
      "[Epoch  1400] ELBO: 807624; Loglik: -772488; Acc.: 0.355; Alpha RMSE: 0.028; Beta RMSE: 0.054\n",
      "[Epoch  1500] ELBO: 821416; Loglik: -770030; Acc.: 0.357; Alpha RMSE: 0.035; Beta RMSE: 0.050\n",
      "[Epoch  1600] ELBO: 803235; Loglik: -768207; Acc.: 0.355; Alpha RMSE: 0.026; Beta RMSE: 0.037\n",
      "[Epoch  1700] ELBO: 804251; Loglik: -766443; Acc.: 0.356; Alpha RMSE: 0.010; Beta RMSE: 0.044\n",
      "[Epoch  1800] ELBO: 824977; Loglik: -762646; Acc.: 0.361; Alpha RMSE: 0.016; Beta RMSE: 0.033\n",
      "[Epoch  1900] ELBO: 804229; Loglik: -761886; Acc.: 0.362; Alpha RMSE: 0.017; Beta RMSE: 0.031\n",
      "[Epoch  2000] ELBO: 797207; Loglik: -761465; Acc.: 0.363; Alpha RMSE: 0.016; Beta RMSE: 0.031\n",
      "[Epoch  2100] ELBO: 786311; Loglik: -757167; Acc.: 0.364; Alpha RMSE: 0.031; Beta RMSE: 0.033\n",
      "[Epoch  2200] ELBO: 782472; Loglik: -758567; Acc.: 0.362; Alpha RMSE: 0.011; Beta RMSE: 0.037\n",
      "[Epoch  2300] ELBO: 774087; Loglik: -753977; Acc.: 0.364; Alpha RMSE: 0.025; Beta RMSE: 0.029\n",
      "[Epoch  2400] ELBO: 777471; Loglik: -753439; Acc.: 0.362; Alpha RMSE: 0.020; Beta RMSE: 0.032\n",
      "[Epoch  2500] ELBO: 780901; Loglik: -751779; Acc.: 0.364; Alpha RMSE: 0.033; Beta RMSE: 0.035\n",
      "[Epoch  2600] ELBO: 778445; Loglik: -750400; Acc.: 0.368; Alpha RMSE: 0.036; Beta RMSE: 0.036\n",
      "[Epoch  2700] ELBO: 765526; Loglik: -750278; Acc.: 0.366; Alpha RMSE: 0.025; Beta RMSE: 0.041\n",
      "[Epoch  2800] ELBO: 770500; Loglik: -747974; Acc.: 0.366; Alpha RMSE: 0.036; Beta RMSE: 0.041\n",
      "[Epoch  2900] ELBO: 764780; Loglik: -746837; Acc.: 0.366; Alpha RMSE: 0.044; Beta RMSE: 0.037\n",
      "[Epoch  3000] ELBO: 764369; Loglik: -746592; Acc.: 0.368; Alpha RMSE: 0.026; Beta RMSE: 0.044\n",
      "[Epoch  3100] ELBO: 756704; Loglik: -745285; Acc.: 0.369; Alpha RMSE: 0.020; Beta RMSE: 0.045\n",
      "[Epoch  3200] ELBO: 756783; Loglik: -744912; Acc.: 0.370; Alpha RMSE: 0.033; Beta RMSE: 0.045\n",
      "[Epoch  3300] ELBO: 762464; Loglik: -743637; Acc.: 0.370; Alpha RMSE: 0.039; Beta RMSE: 0.046\n",
      "[Epoch  3400] ELBO: 756014; Loglik: -743621; Acc.: 0.369; Alpha RMSE: 0.043; Beta RMSE: 0.042\n",
      "[Epoch  3500] ELBO: 752183; Loglik: -742453; Acc.: 0.369; Alpha RMSE: 0.052; Beta RMSE: 0.042\n",
      "[Epoch  3600] ELBO: 750175; Loglik: -742639; Acc.: 0.370; Alpha RMSE: 0.055; Beta RMSE: 0.048\n",
      "[Epoch  3700] ELBO: 750894; Loglik: -742008; Acc.: 0.372; Alpha RMSE: 0.038; Beta RMSE: 0.050\n",
      "[Epoch  3800] ELBO: 749855; Loglik: -742162; Acc.: 0.370; Alpha RMSE: 0.035; Beta RMSE: 0.047\n",
      "[Epoch  3900] ELBO: 755723; Loglik: -741228; Acc.: 0.371; Alpha RMSE: 0.054; Beta RMSE: 0.046\n",
      "[Epoch  4000] ELBO: 748318; Loglik: -740990; Acc.: 0.372; Alpha RMSE: 0.036; Beta RMSE: 0.047\n",
      "[Epoch  4100] ELBO: 747325; Loglik: -741026; Acc.: 0.372; Alpha RMSE: 0.043; Beta RMSE: 0.046\n",
      "[Epoch  4200] ELBO: 750144; Loglik: -740797; Acc.: 0.372; Alpha RMSE: 0.040; Beta RMSE: 0.042\n",
      "[Epoch  4300] ELBO: 744054; Loglik: -739706; Acc.: 0.373; Alpha RMSE: 0.033; Beta RMSE: 0.049\n",
      "[Epoch  4400] ELBO: 752503; Loglik: -740343; Acc.: 0.372; Alpha RMSE: 0.039; Beta RMSE: 0.045\n",
      "[Epoch  4500] ELBO: 747888; Loglik: -740324; Acc.: 0.371; Alpha RMSE: 0.047; Beta RMSE: 0.047\n",
      "[Epoch  4600] ELBO: 747045; Loglik: -739863; Acc.: 0.372; Alpha RMSE: 0.052; Beta RMSE: 0.050\n",
      "[Epoch  4700] ELBO: 746403; Loglik: -739183; Acc.: 0.373; Alpha RMSE: 0.042; Beta RMSE: 0.051\n",
      "[Epoch  4800] ELBO: 745481; Loglik: -739463; Acc.: 0.373; Alpha RMSE: 0.040; Beta RMSE: 0.050\n",
      "[Epoch  4900] ELBO: 744472; Loglik: -738833; Acc.: 0.372; Alpha RMSE: 0.044; Beta RMSE: 0.046\n",
      "Elapsed time: 600.333012342453 \n",
      "\n",
      "True alpha: [-0.8  0.8  1.2]\n",
      "Est. alpha: [-0.77658886  0.76264215  1.1306661 ]\n",
      "\tBETA_XF1: -0.777\n",
      "\tBETA_XF2: 0.763\n",
      "\tBETA_XF3: 1.131\n",
      "\n",
      "True zeta: [-0.8  0.8  1.  -0.8  1.5]\n",
      "Est. zeta: [-0.7760739   0.73848164  0.94395673 -0.798591    1.4269344 ]\n",
      "\tBETA_XR1: -0.776\n",
      "\tBETA_XR2: 0.738\n",
      "\tBETA_XR3: 0.944\n",
      "\tBETA_XR4: -0.799\n",
      "\tBETA_XR5: 1.427\n",
      "\n"
     ]
    },
    {
     "data": {
      "image/png": "[encoded data removed]",
      "text/plain": [
       "<Figure size 432x288 with 1 Axes>"
      ]
     },
     "metadata": {
      "needs_background": "light"
     },
     "output_type": "display_data"
    },
    {
     "name": "stdout",
     "output_type": "stream",
     "text": [
      "CPU times: user 42min 16s, sys: 6min 39s, total: 48min 56s\n",
      "Wall time: 10min 3s\n"
     ]
    }
   ],
   "source": [
    "%%time\n",
    "\n",
    "from core.torch_mxl import TorchMXL\n",
    "\n",
    "# instantiate MXL model\n",
    "mxl = TorchMXL(dcm_dataset, batch_size=num_resp, use_inference_net=True, use_cuda=True)\n",
    "\n",
    "# run Bayesian inference (variational inference)\n",
    "results = mxl.infer(num_epochs=5000, true_alpha=true_alpha, true_beta=true_beta)"
   ]
  },
  {
   "cell_type": "markdown",
   "metadata": {},
   "source": [
    "The \"results\" dictionary containts a summary of the results of variational inference, including means of the posterior approximations for the different parameters in the model:"
   ]
  },
  {
   "cell_type": "code",
   "execution_count": 8,
   "metadata": {},
   "outputs": [
    {
     "data": {
      "text/plain": [
       "{'Estimation time': 600.333012342453,\n",
       " 'Est. alpha': array([-0.77658886,  0.76264215,  1.1306661 ], dtype=float32),\n",
       " 'Est. zeta': array([-0.7760739 ,  0.73848164,  0.94395673, -0.798591  ,  1.4269344 ],\n",
       "       dtype=float32),\n",
       " 'Est. beta_n': array([[-0.7997428 ,  0.7508991 ,  0.95635855, -0.8193611 ,  1.4340667 ],\n",
       "        [-0.7979828 ,  0.7493285 ,  0.9545615 , -0.81803334,  1.4317379 ],\n",
       "        [-0.7964622 ,  0.74804044,  0.95289266, -0.8167176 ,  1.4294784 ],\n",
       "        ...,\n",
       "        [-0.79898334,  0.7504466 ,  0.9556714 , -0.81953883,  1.4329168 ],\n",
       "        [-0.7960454 ,  0.7475652 ,  0.952366  , -0.8160727 ,  1.429038  ],\n",
       "        [-0.79794014,  0.7492703 ,  0.9545022 , -0.8179342 ,  1.4317242 ]],\n",
       "       dtype=float32),\n",
       " 'ELBO': 745191.4375,\n",
       " 'Loglikelihood': -738555.5,\n",
       " 'Accuracy': 0.3736700117588043}"
      ]
     },
     "execution_count": 8,
     "metadata": {},
     "output_type": "execute_result"
    }
   ],
   "source": [
    "results"
   ]
  },
  {
   "cell_type": "markdown",
   "metadata": {},
   "source": [
    "This interface is currently being improved to include additional output information, but additional information can be obtained from the attributes of the \"mxl\" object for now. "
   ]
  }
 ],
 "metadata": {
  "kernelspec": {
   "display_name": "Python 3 (ipykernel)",
   "language": "python",
   "name": "python3"
  },
  "language_info": {
   "codemirror_mode": {
    "name": "ipython",
    "version": 3
   },
   "file_extension": ".py",
   "mimetype": "text/x-python",
   "name": "python",
   "nbconvert_exporter": "python",
   "pygments_lexer": "ipython3",
   "version": "3.8.10"
  }
 },
 "nbformat": 4,
 "nbformat_minor": 4
}

{
 "cells": [
  {
   "cell_type": "markdown",
   "metadata": {},
   "source": [
    "# Demo of SVI using simulated data for 50000 individuals\n",
    "\n",
    "We begin by performing the necessary imports:"
   ]
  },
  {
   "cell_type": "code",
   "execution_count": 1,
   "metadata": {},
   "outputs": [],
   "source": [
    "import os\n",
    "os.environ[\"CUDA_VISIBLE_DEVICES\"]=\"0\"\n",
    "\n",
    "import logging\n",
    "import time\n",
    "import matplotlib.pyplot as plt\n",
    "import numpy as np\n",
    "import pandas as pd\n",
    "\n",
    "# Fix random seed for reproducibility\n",
    "np.random.seed(42)"
   ]
  },
  {
   "cell_type": "markdown",
   "metadata": {},
   "source": [
    "# Generate simulated data\n",
    "\n",
    "We predefine the fixed effects parameters (true_alpha) and random effects parameters (true_beta), as well as the covariance matrix (true_Omega), and sample simulated choice data for 50000 respondents (num_resp), each with 10 choice situations (num_menus). The number of choice alternatives is set to 5. "
   ]
  },
  {
   "cell_type": "code",
   "execution_count": 2,
   "metadata": {},
   "outputs": [
    {
     "name": "stdout",
     "output_type": "stream",
     "text": [
      "Generating fake data...\n",
      "Error: 46.0406\n"
     ]
    },
    {
     "data": {
      "text/html": [
       "<div>\n",
       "<style scoped>\n",
       "    .dataframe tbody tr th:only-of-type {\n",
       "        vertical-align: middle;\n",
       "    }\n",
       "\n",
       "    .dataframe tbody tr th {\n",
       "        vertical-align: top;\n",
       "    }\n",
       "\n",
       "    .dataframe thead th {\n",
       "        text-align: right;\n",
       "    }\n",
       "</style>\n",
       "<table border=\"1\" class=\"dataframe\">\n",
       "  <thead>\n",
       "    <tr style=\"text-align: right;\">\n",
       "      <th></th>\n",
       "      <th>ALT1_XF1</th>\n",
       "      <th>ALT1_XF2</th>\n",
       "      <th>ALT1_XF3</th>\n",
       "      <th>ALT1_XR1</th>\n",
       "      <th>ALT1_XR2</th>\n",
       "      <th>ALT1_XR3</th>\n",
       "      <th>ALT1_XR4</th>\n",
       "      <th>ALT1_XR5</th>\n",
       "      <th>ALT2_XF1</th>\n",
       "      <th>ALT2_XF2</th>\n",
       "      <th>...</th>\n",
       "      <th>ALT5_XR1</th>\n",
       "      <th>ALT5_XR2</th>\n",
       "      <th>ALT5_XR3</th>\n",
       "      <th>ALT5_XR4</th>\n",
       "      <th>ALT5_XR5</th>\n",
       "      <th>choice</th>\n",
       "      <th>indID</th>\n",
       "      <th>menuID</th>\n",
       "      <th>obsID</th>\n",
       "      <th>ones</th>\n",
       "    </tr>\n",
       "  </thead>\n",
       "  <tbody>\n",
       "    <tr>\n",
       "      <th>0</th>\n",
       "      <td>0.374540</td>\n",
       "      <td>0.950714</td>\n",
       "      <td>0.731994</td>\n",
       "      <td>0.340311</td>\n",
       "      <td>0.768842</td>\n",
       "      <td>0.936032</td>\n",
       "      <td>0.481857</td>\n",
       "      <td>0.802253</td>\n",
       "      <td>0.598658</td>\n",
       "      <td>0.156019</td>\n",
       "      <td>...</td>\n",
       "      <td>0.809189</td>\n",
       "      <td>0.914568</td>\n",
       "      <td>0.789045</td>\n",
       "      <td>0.110962</td>\n",
       "      <td>0.312995</td>\n",
       "      <td>1</td>\n",
       "      <td>0</td>\n",
       "      <td>0</td>\n",
       "      <td>0</td>\n",
       "      <td>1</td>\n",
       "    </tr>\n",
       "    <tr>\n",
       "      <th>1</th>\n",
       "      <td>0.183405</td>\n",
       "      <td>0.304242</td>\n",
       "      <td>0.524756</td>\n",
       "      <td>0.194837</td>\n",
       "      <td>0.796218</td>\n",
       "      <td>0.651730</td>\n",
       "      <td>0.237908</td>\n",
       "      <td>0.199814</td>\n",
       "      <td>0.431945</td>\n",
       "      <td>0.291229</td>\n",
       "      <td>...</td>\n",
       "      <td>0.536775</td>\n",
       "      <td>0.940645</td>\n",
       "      <td>0.826931</td>\n",
       "      <td>0.510653</td>\n",
       "      <td>0.914976</td>\n",
       "      <td>4</td>\n",
       "      <td>0</td>\n",
       "      <td>1</td>\n",
       "      <td>1</td>\n",
       "      <td>1</td>\n",
       "    </tr>\n",
       "    <tr>\n",
       "      <th>2</th>\n",
       "      <td>0.607545</td>\n",
       "      <td>0.170524</td>\n",
       "      <td>0.065052</td>\n",
       "      <td>0.485441</td>\n",
       "      <td>0.186343</td>\n",
       "      <td>0.322737</td>\n",
       "      <td>0.514758</td>\n",
       "      <td>0.090070</td>\n",
       "      <td>0.948886</td>\n",
       "      <td>0.965632</td>\n",
       "      <td>...</td>\n",
       "      <td>0.595050</td>\n",
       "      <td>0.947324</td>\n",
       "      <td>0.927226</td>\n",
       "      <td>0.962351</td>\n",
       "      <td>0.211986</td>\n",
       "      <td>3</td>\n",
       "      <td>0</td>\n",
       "      <td>2</td>\n",
       "      <td>2</td>\n",
       "      <td>1</td>\n",
       "    </tr>\n",
       "    <tr>\n",
       "      <th>3</th>\n",
       "      <td>0.662522</td>\n",
       "      <td>0.311711</td>\n",
       "      <td>0.520068</td>\n",
       "      <td>0.442947</td>\n",
       "      <td>0.350437</td>\n",
       "      <td>0.031725</td>\n",
       "      <td>0.790190</td>\n",
       "      <td>0.481335</td>\n",
       "      <td>0.546710</td>\n",
       "      <td>0.184854</td>\n",
       "      <td>...</td>\n",
       "      <td>0.846481</td>\n",
       "      <td>0.875187</td>\n",
       "      <td>0.624215</td>\n",
       "      <td>0.993924</td>\n",
       "      <td>0.414757</td>\n",
       "      <td>4</td>\n",
       "      <td>0</td>\n",
       "      <td>3</td>\n",
       "      <td>3</td>\n",
       "      <td>1</td>\n",
       "    </tr>\n",
       "    <tr>\n",
       "      <th>4</th>\n",
       "      <td>0.388677</td>\n",
       "      <td>0.271349</td>\n",
       "      <td>0.828738</td>\n",
       "      <td>0.011319</td>\n",
       "      <td>0.689977</td>\n",
       "      <td>0.119363</td>\n",
       "      <td>0.251674</td>\n",
       "      <td>0.674041</td>\n",
       "      <td>0.356753</td>\n",
       "      <td>0.280935</td>\n",
       "      <td>...</td>\n",
       "      <td>0.890742</td>\n",
       "      <td>0.984823</td>\n",
       "      <td>0.531394</td>\n",
       "      <td>0.295977</td>\n",
       "      <td>0.364010</td>\n",
       "      <td>2</td>\n",
       "      <td>0</td>\n",
       "      <td>4</td>\n",
       "      <td>4</td>\n",
       "      <td>1</td>\n",
       "    </tr>\n",
       "  </tbody>\n",
       "</table>\n",
       "<p>5 rows × 45 columns</p>\n",
       "</div>"
      ],
      "text/plain": [
       "   ALT1_XF1  ALT1_XF2  ALT1_XF3  ALT1_XR1  ALT1_XR2  ALT1_XR3  ALT1_XR4  \\\n",
       "0  0.374540  0.950714  0.731994  0.340311  0.768842  0.936032  0.481857   \n",
       "1  0.183405  0.304242  0.524756  0.194837  0.796218  0.651730  0.237908   \n",
       "2  0.607545  0.170524  0.065052  0.485441  0.186343  0.322737  0.514758   \n",
       "3  0.662522  0.311711  0.520068  0.442947  0.350437  0.031725  0.790190   \n",
       "4  0.388677  0.271349  0.828738  0.011319  0.689977  0.119363  0.251674   \n",
       "\n",
       "   ALT1_XR5  ALT2_XF1  ALT2_XF2  ...  ALT5_XR1  ALT5_XR2  ALT5_XR3  ALT5_XR4  \\\n",
       "0  0.802253  0.598658  0.156019  ...  0.809189  0.914568  0.789045  0.110962   \n",
       "1  0.199814  0.431945  0.291229  ...  0.536775  0.940645  0.826931  0.510653   \n",
       "2  0.090070  0.948886  0.965632  ...  0.595050  0.947324  0.927226  0.962351   \n",
       "3  0.481335  0.546710  0.184854  ...  0.846481  0.875187  0.624215  0.993924   \n",
       "4  0.674041  0.356753  0.280935  ...  0.890742  0.984823  0.531394  0.295977   \n",
       "\n",
       "   ALT5_XR5  choice  indID  menuID  obsID  ones  \n",
       "0  0.312995       1      0       0      0     1  \n",
       "1  0.914976       4      0       1      1     1  \n",
       "2  0.211986       3      0       2      2     1  \n",
       "3  0.414757       4      0       3      3     1  \n",
       "4  0.364010       2      0       4      4     1  \n",
       "\n",
       "[5 rows x 45 columns]"
      ]
     },
     "execution_count": 2,
     "metadata": {},
     "output_type": "execute_result"
    }
   ],
   "source": [
    "from core.dcm_fakedata import generate_fake_data_wide\n",
    "\n",
    "num_resp = 50000\n",
    "num_menus = 10\n",
    "num_alternatives = 5\n",
    "\n",
    "true_alpha = np.array([-0.8, 0.8, 1.2])\n",
    "true_beta = np.array([-0.8, 0.8, 1.0, -0.8, 1.5])\n",
    "# dynamic version of generating Omega\n",
    "corr = 0.8\n",
    "scale_factor = 1.0\n",
    "true_Omega = corr*np.ones((len(true_beta),len(true_beta))) # off-diagonal values of cov matrix\n",
    "true_Omega[np.arange(len(true_beta)), np.arange(len(true_beta))] = 1.0 # diagonal values of cov matrix\n",
    "true_Omega *= scale_factor\n",
    "\n",
    "df = generate_fake_data_wide(num_resp, num_menus, num_alternatives, true_alpha, true_beta, true_Omega)\n",
    "df.head()"
   ]
  },
  {
   "cell_type": "markdown",
   "metadata": {},
   "source": [
    "# Mixed Logit specification\n",
    "\n",
    "We now make use of the developed formula interface to specify the utilities of the mixed logit model. \n",
    "\n",
    "We begin by defining the fixed effects parameters, the random effects parameters, and the observed variables. This creates instances of Python objects that can be put together to define the utility functions for the different alternatives.\n",
    "\n",
    "Once the utilities are defined, we collect them in a Python dictionary mapping alternative names to their corresponding expressions."
   ]
  },
  {
   "cell_type": "code",
   "execution_count": 3,
   "metadata": {},
   "outputs": [],
   "source": [
    "from core.dcm_interface import FixedEffect, RandomEffect, ObservedVariable\n",
    "\n",
    "# define fixed effects parameters\n",
    "B_XF1 = FixedEffect('BETA_XF1')\n",
    "B_XF2 = FixedEffect('BETA_XF2')\n",
    "B_XF3 = FixedEffect('BETA_XF3')\n",
    "\n",
    "# define random effects parameters\n",
    "B_XR1 = RandomEffect('BETA_XR1')\n",
    "B_XR2 = RandomEffect('BETA_XR2')\n",
    "B_XR3 = RandomEffect('BETA_XR3')\n",
    "B_XR4 = RandomEffect('BETA_XR4')\n",
    "B_XR5 = RandomEffect('BETA_XR5')\n",
    "\n",
    "# define observed variables\n",
    "for attr in df.columns:\n",
    "    exec(\"%s = ObservedVariable('%s')\" % (attr,attr))\n",
    "\n",
    "# define utility functions\n",
    "V1 = B_XF1*ALT1_XF1 + B_XF2*ALT1_XF2 + B_XF3*ALT1_XF3 + B_XR1*ALT1_XR1 + B_XR2*ALT1_XR2 + B_XR3*ALT1_XR3 + B_XR4*ALT1_XR4 + B_XR5*ALT1_XR5\n",
    "V2 = B_XF1*ALT2_XF1 + B_XF2*ALT2_XF2 + B_XF3*ALT2_XF3 + B_XR1*ALT2_XR1 + B_XR2*ALT2_XR2 + B_XR3*ALT2_XR3 + B_XR4*ALT2_XR4 + B_XR5*ALT2_XR5\n",
    "V3 = B_XF1*ALT3_XF1 + B_XF2*ALT3_XF2 + B_XF3*ALT3_XF3 + B_XR1*ALT3_XR1 + B_XR2*ALT3_XR2 + B_XR3*ALT3_XR3 + B_XR4*ALT3_XR4 + B_XR5*ALT3_XR5\n",
    "V4 = B_XF1*ALT4_XF1 + B_XF2*ALT4_XF2 + B_XF3*ALT4_XF3 + B_XR1*ALT4_XR1 + B_XR2*ALT4_XR2 + B_XR3*ALT4_XR3 + B_XR4*ALT4_XR4 + B_XR5*ALT4_XR5\n",
    "V5 = B_XF1*ALT5_XF1 + B_XF2*ALT5_XF2 + B_XF3*ALT5_XF3 + B_XR1*ALT5_XR1 + B_XR2*ALT5_XR2 + B_XR3*ALT5_XR3 + B_XR4*ALT5_XR4 + B_XR5*ALT5_XR5\n",
    "\n",
    "# associate utility functions with the names of the alternatives\n",
    "utilities = {\"ALT1\": V1, \"ALT2\": V2, \"ALT3\": V3, \"ALT4\": V4, \"ALT5\": V5}"
   ]
  },
  {
   "cell_type": "markdown",
   "metadata": {},
   "source": [
    "We are now ready to create a Specification object containing the utilities that we have just defined. Note that we must also specify the type of choice model to be used - a mixed logit model (MXL) in this case.\n",
    "\n",
    "Note that we can inspect the specification by printing the dcm_spec object."
   ]
  },
  {
   "cell_type": "code",
   "execution_count": 4,
   "metadata": {},
   "outputs": [
    {
     "name": "stdout",
     "output_type": "stream",
     "text": [
      "----------------- MXL specification:\n",
      "Alternatives: ['ALT1', 'ALT2', 'ALT3', 'ALT4', 'ALT5']\n",
      "Utility functions:\n",
      "   V_ALT1 = BETA_XF1*ALT1_XF1 + BETA_XF2*ALT1_XF2 + BETA_XF3*ALT1_XF3 + BETA_XR1_n*ALT1_XR1 + BETA_XR2_n*ALT1_XR2 + BETA_XR3_n*ALT1_XR3 + BETA_XR4_n*ALT1_XR4 + BETA_XR5_n*ALT1_XR5\n",
      "   V_ALT2 = BETA_XF1*ALT2_XF1 + BETA_XF2*ALT2_XF2 + BETA_XF3*ALT2_XF3 + BETA_XR1_n*ALT2_XR1 + BETA_XR2_n*ALT2_XR2 + BETA_XR3_n*ALT2_XR3 + BETA_XR4_n*ALT2_XR4 + BETA_XR5_n*ALT2_XR5\n",
      "   V_ALT3 = BETA_XF1*ALT3_XF1 + BETA_XF2*ALT3_XF2 + BETA_XF3*ALT3_XF3 + BETA_XR1_n*ALT3_XR1 + BETA_XR2_n*ALT3_XR2 + BETA_XR3_n*ALT3_XR3 + BETA_XR4_n*ALT3_XR4 + BETA_XR5_n*ALT3_XR5\n",
      "   V_ALT4 = BETA_XF1*ALT4_XF1 + BETA_XF2*ALT4_XF2 + BETA_XF3*ALT4_XF3 + BETA_XR1_n*ALT4_XR1 + BETA_XR2_n*ALT4_XR2 + BETA_XR3_n*ALT4_XR3 + BETA_XR4_n*ALT4_XR4 + BETA_XR5_n*ALT4_XR5\n",
      "   V_ALT5 = BETA_XF1*ALT5_XF1 + BETA_XF2*ALT5_XF2 + BETA_XF3*ALT5_XF3 + BETA_XR1_n*ALT5_XR1 + BETA_XR2_n*ALT5_XR2 + BETA_XR3_n*ALT5_XR3 + BETA_XR4_n*ALT5_XR4 + BETA_XR5_n*ALT5_XR5\n",
      "\n",
      "Num. parameters to be estimated: 8\n",
      "Fixed effects params: ['BETA_XF1', 'BETA_XF2', 'BETA_XF3']\n",
      "Random effects params: ['BETA_XR1', 'BETA_XR2', 'BETA_XR3', 'BETA_XR4', 'BETA_XR5']\n"
     ]
    }
   ],
   "source": [
    "from core.dcm_interface import Specification\n",
    "\n",
    "# create MXL specification object based on the utilities previously defined\n",
    "dcm_spec = Specification('MXL', utilities)\n",
    "print(dcm_spec)"
   ]
  },
  {
   "cell_type": "markdown",
   "metadata": {},
   "source": [
    "Once the Specification is defined, we need to define the DCM Dataset object that goes along with it. For this, we instantiate the Dataset class with the Pandas dataframe containing the data in the so-called \"wide format\", the name of column in the dataframe containing the observed choices and the dcm_spec that we have previously created.\n",
    "\n",
    "Note that since this is panel data, we must also specify the name of the column in the dataframe that contains the ID of the respondent (this should be a integer ranging from 0 the num_resp-1)."
   ]
  },
  {
   "cell_type": "code",
   "execution_count": 5,
   "metadata": {
    "scrolled": false
   },
   "outputs": [
    {
     "name": "stdout",
     "output_type": "stream",
     "text": [
      "Preparing dataset...\n",
      "\tModel type: MXL\n",
      "\tNum. observations: 500000\n",
      "\tNum. alternatives: 5\n",
      "\tNum. respondents: 50000\n",
      "\tNum. menus: 10\n",
      "\tObservations IDs: [     0      1      2 ... 499997 499998 499999]\n",
      "\tAlternative IDs: None\n",
      "\tRespondent IDs: [    0     0     0 ... 49999 49999 49999]\n",
      "\tAvailability columns: None\n",
      "\tAttribute names: ['ALT1_XF1', 'ALT1_XF2', 'ALT1_XF3', 'ALT1_XR1', 'ALT1_XR2', 'ALT1_XR3', 'ALT1_XR4', 'ALT1_XR5', 'ALT2_XF1', 'ALT2_XF2', 'ALT2_XF3', 'ALT2_XR1', 'ALT2_XR2', 'ALT2_XR3', 'ALT2_XR4', 'ALT2_XR5', 'ALT3_XF1', 'ALT3_XF2', 'ALT3_XF3', 'ALT3_XR1', 'ALT3_XR2', 'ALT3_XR3', 'ALT3_XR4', 'ALT3_XR5', 'ALT4_XF1', 'ALT4_XF2', 'ALT4_XF3', 'ALT4_XR1', 'ALT4_XR2', 'ALT4_XR3', 'ALT4_XR4', 'ALT4_XR5', 'ALT5_XF1', 'ALT5_XF2', 'ALT5_XF3', 'ALT5_XR1', 'ALT5_XR2', 'ALT5_XR3', 'ALT5_XR4', 'ALT5_XR5']\n",
      "\tFixed effects attribute names: ['ALT1_XF1', 'ALT1_XF2', 'ALT1_XF3', 'ALT2_XF1', 'ALT2_XF2', 'ALT2_XF3', 'ALT3_XF1', 'ALT3_XF2', 'ALT3_XF3', 'ALT4_XF1', 'ALT4_XF2', 'ALT4_XF3', 'ALT5_XF1', 'ALT5_XF2', 'ALT5_XF3']\n",
      "\tFixed effects parameter names: ['BETA_XF1', 'BETA_XF2', 'BETA_XF3', 'BETA_XF1', 'BETA_XF2', 'BETA_XF3', 'BETA_XF1', 'BETA_XF2', 'BETA_XF3', 'BETA_XF1', 'BETA_XF2', 'BETA_XF3', 'BETA_XF1', 'BETA_XF2', 'BETA_XF3']\n",
      "\tRandom effects attribute names: ['ALT1_XR1', 'ALT1_XR2', 'ALT1_XR3', 'ALT1_XR4', 'ALT1_XR5', 'ALT2_XR1', 'ALT2_XR2', 'ALT2_XR3', 'ALT2_XR4', 'ALT2_XR5', 'ALT3_XR1', 'ALT3_XR2', 'ALT3_XR3', 'ALT3_XR4', 'ALT3_XR5', 'ALT4_XR1', 'ALT4_XR2', 'ALT4_XR3', 'ALT4_XR4', 'ALT4_XR5', 'ALT5_XR1', 'ALT5_XR2', 'ALT5_XR3', 'ALT5_XR4', 'ALT5_XR5']\n",
      "\tRandom effects parameter names: ['BETA_XR1', 'BETA_XR2', 'BETA_XR3', 'BETA_XR4', 'BETA_XR5', 'BETA_XR1', 'BETA_XR2', 'BETA_XR3', 'BETA_XR4', 'BETA_XR5', 'BETA_XR1', 'BETA_XR2', 'BETA_XR3', 'BETA_XR4', 'BETA_XR5', 'BETA_XR1', 'BETA_XR2', 'BETA_XR3', 'BETA_XR4', 'BETA_XR5', 'BETA_XR1', 'BETA_XR2', 'BETA_XR3', 'BETA_XR4', 'BETA_XR5']\n",
      "\tAlternative attributes ndarray.shape: (50000, 10, 40)\n",
      "\tChoices ndarray.shape: (50000, 10)\n",
      "\tAlternatives availability ndarray.shape: (50000, 10, 5)\n",
      "\tData mask ndarray.shape: (50000, 10)\n",
      "\tContext data ndarray.shape: (50000, 0)\n",
      "Done!\n"
     ]
    }
   ],
   "source": [
    "from core.dcm_interface import Dataset\n",
    "\n",
    "# create DCM dataset object\n",
    "dcm_dataset = Dataset(df, 'choice', dcm_spec, resp_id_col='indID')"
   ]
  },
  {
   "cell_type": "markdown",
   "metadata": {},
   "source": [
    "As with the specification, we can inspect the DCM dataset by printing the dcm_dataset object:"
   ]
  },
  {
   "cell_type": "code",
   "execution_count": 6,
   "metadata": {
    "scrolled": false
   },
   "outputs": [
    {
     "name": "stdout",
     "output_type": "stream",
     "text": [
      "----------------- DCM dataset:\n",
      "Model type: MXL\n",
      "Num. observations: 500000\n",
      "Num. alternatives: 5\n",
      "Num. respondents: 50000\n",
      "Num. menus: 10\n",
      "Num. fixed effects: 15\n",
      "Num. random effects: 25\n",
      "Attribute names: ['ALT1_XF1', 'ALT1_XF2', 'ALT1_XF3', 'ALT1_XR1', 'ALT1_XR2', 'ALT1_XR3', 'ALT1_XR4', 'ALT1_XR5', 'ALT2_XF1', 'ALT2_XF2', 'ALT2_XF3', 'ALT2_XR1', 'ALT2_XR2', 'ALT2_XR3', 'ALT2_XR4', 'ALT2_XR5', 'ALT3_XF1', 'ALT3_XF2', 'ALT3_XF3', 'ALT3_XR1', 'ALT3_XR2', 'ALT3_XR3', 'ALT3_XR4', 'ALT3_XR5', 'ALT4_XF1', 'ALT4_XF2', 'ALT4_XF3', 'ALT4_XR1', 'ALT4_XR2', 'ALT4_XR3', 'ALT4_XR4', 'ALT4_XR5', 'ALT5_XF1', 'ALT5_XF2', 'ALT5_XF3', 'ALT5_XR1', 'ALT5_XR2', 'ALT5_XR3', 'ALT5_XR4', 'ALT5_XR5']\n"
     ]
    }
   ],
   "source": [
    "print(dcm_dataset)"
   ]
  },
  {
   "cell_type": "markdown",
   "metadata": {},
   "source": [
    "# Bayesian Mixed Logit Model in PyTorch\n",
    "\n",
    "It is now time to perform approximate Bayesian inference on the mixed logit model that we have specified. The generative process of the MXL model that we will be using is the following:\n",
    "\n",
    "1. Draw fixed taste parameters $\\boldsymbol\\alpha \\sim \\mathcal{N}(\\boldsymbol\\lambda_0, \\boldsymbol\\Xi_0)$\n",
    "2. Draw mean vector $\\boldsymbol\\zeta \\sim \\mathcal{N}(\\boldsymbol\\mu_0, \\boldsymbol\\Sigma_0)$\n",
    "3. Draw scales vector $\\boldsymbol\\theta \\sim \\mbox{half-Cauchy}(\\boldsymbol\\sigma_0)$\n",
    "4. Draw correlation matrix $\\boldsymbol\\Psi \\sim \\mbox{LKJ}(\\nu)$\n",
    "5. For each decision-maker $n \\in \\{1,\\dots,N\\}$\n",
    "    1. Draw random taste parameters $\\boldsymbol\\beta_n \\sim \\mathcal{N}(\\boldsymbol\\zeta,\\boldsymbol\\Omega)$\n",
    "    2. For each choice occasion $t \\in \\{1,\\dots,T_n\\}$\n",
    "        1. Draw observed choice $y_{nt} \\sim \\mbox{MNL}(\\boldsymbol\\alpha, \\boldsymbol\\beta_n, \\textbf{X}_{nt})$\n",
    "        \n",
    "where $\\boldsymbol\\Omega = \\mbox{diag}(\\boldsymbol\\theta) \\times \\boldsymbol\\Psi \\times  \\mbox{diag}(\\boldsymbol\\theta)$.\n",
    "\n",
    "We can instantiate this model from the TorchMXL using the following code. We can the run variational inference to approximate the posterior distribution of the latent variables in the model. Note that since in this case we know the true parameters that were used to generate the simualated choice data, we can pass them to the \"infer\" method in order to obtain additional information during the ELBO maximization (useful for tracking the progress of VI and for other debugging purposes). "
   ]
  },
  {
   "cell_type": "code",
   "execution_count": 7,
   "metadata": {},
   "outputs": [
    {
     "name": "stdout",
     "output_type": "stream",
     "text": [
      "[Epoch     0] ELBO: 1151733; Loglik: -912072; Acc.: 0.233; Alpha RMSE: 0.942; Beta RMSE: 1.023\n",
      "[Epoch   100] ELBO: 977038; Loglik: -825163; Acc.: 0.269; Alpha RMSE: 0.461; Beta RMSE: 1.032\n",
      "[Epoch   200] ELBO: 873997; Loglik: -760608; Acc.: 0.339; Alpha RMSE: 0.217; Beta RMSE: 0.910\n",
      "[Epoch   300] ELBO: 880870; Loglik: -732079; Acc.: 0.369; Alpha RMSE: 0.059; Beta RMSE: 0.870\n",
      "[Epoch   400] ELBO: 778391; Loglik: -682645; Acc.: 0.429; Alpha RMSE: 0.047; Beta RMSE: 0.758\n",
      "[Epoch   500] ELBO: 864514; Loglik: -657831; Acc.: 0.454; Alpha RMSE: 0.025; Beta RMSE: 0.654\n",
      "[Epoch   600] ELBO: 765884; Loglik: -648757; Acc.: 0.465; Alpha RMSE: 0.037; Beta RMSE: 0.579\n",
      "[Epoch   700] ELBO: 784410; Loglik: -649543; Acc.: 0.463; Alpha RMSE: 0.071; Beta RMSE: 0.483\n",
      "[Epoch   800] ELBO: 751364; Loglik: -638177; Acc.: 0.475; Alpha RMSE: 0.038; Beta RMSE: 0.411\n",
      "[Epoch   900] ELBO: 740548; Loglik: -633331; Acc.: 0.480; Alpha RMSE: 0.077; Beta RMSE: 0.345\n",
      "[Epoch  1000] ELBO: 740688; Loglik: -632439; Acc.: 0.480; Alpha RMSE: 0.057; Beta RMSE: 0.282\n",
      "[Epoch  1100] ELBO: 738890; Loglik: -630518; Acc.: 0.483; Alpha RMSE: 0.070; Beta RMSE: 0.226\n",
      "[Epoch  1200] ELBO: 726614; Loglik: -629736; Acc.: 0.483; Alpha RMSE: 0.071; Beta RMSE: 0.182\n",
      "[Epoch  1300] ELBO: 723434; Loglik: -627351; Acc.: 0.486; Alpha RMSE: 0.092; Beta RMSE: 0.131\n",
      "[Epoch  1400] ELBO: 731626; Loglik: -627588; Acc.: 0.486; Alpha RMSE: 0.088; Beta RMSE: 0.102\n",
      "[Epoch  1500] ELBO: 735935; Loglik: -627987; Acc.: 0.487; Alpha RMSE: 0.091; Beta RMSE: 0.073\n",
      "[Epoch  1600] ELBO: 719957; Loglik: -625435; Acc.: 0.489; Alpha RMSE: 0.102; Beta RMSE: 0.069\n",
      "[Epoch  1700] ELBO: 718069; Loglik: -626406; Acc.: 0.488; Alpha RMSE: 0.077; Beta RMSE: 0.082\n",
      "[Epoch  1800] ELBO: 717585; Loglik: -626436; Acc.: 0.489; Alpha RMSE: 0.097; Beta RMSE: 0.110\n",
      "[Epoch  1900] ELBO: 721252; Loglik: -626749; Acc.: 0.488; Alpha RMSE: 0.101; Beta RMSE: 0.099\n",
      "[Epoch  2000] ELBO: 723661; Loglik: -627245; Acc.: 0.485; Alpha RMSE: 0.083; Beta RMSE: 0.111\n",
      "[Epoch  2100] ELBO: 710430; Loglik: -628145; Acc.: 0.486; Alpha RMSE: 0.084; Beta RMSE: 0.114\n",
      "[Epoch  2200] ELBO: 714605; Loglik: -627058; Acc.: 0.487; Alpha RMSE: 0.084; Beta RMSE: 0.123\n",
      "[Epoch  2300] ELBO: 711785; Loglik: -627774; Acc.: 0.485; Alpha RMSE: 0.072; Beta RMSE: 0.127\n",
      "[Epoch  2400] ELBO: 712546; Loglik: -628034; Acc.: 0.486; Alpha RMSE: 0.070; Beta RMSE: 0.121\n",
      "[Epoch  2500] ELBO: 707298; Loglik: -629648; Acc.: 0.483; Alpha RMSE: 0.092; Beta RMSE: 0.123\n",
      "[Epoch  2600] ELBO: 708341; Loglik: -628714; Acc.: 0.484; Alpha RMSE: 0.082; Beta RMSE: 0.111\n",
      "[Epoch  2700] ELBO: 717366; Loglik: -629088; Acc.: 0.484; Alpha RMSE: 0.064; Beta RMSE: 0.100\n",
      "[Epoch  2800] ELBO: 704363; Loglik: -629945; Acc.: 0.484; Alpha RMSE: 0.080; Beta RMSE: 0.097\n",
      "[Epoch  2900] ELBO: 705266; Loglik: -630950; Acc.: 0.481; Alpha RMSE: 0.067; Beta RMSE: 0.107\n",
      "[Epoch  3000] ELBO: 704205; Loglik: -631049; Acc.: 0.481; Alpha RMSE: 0.056; Beta RMSE: 0.096\n",
      "[Epoch  3100] ELBO: 704617; Loglik: -632283; Acc.: 0.480; Alpha RMSE: 0.062; Beta RMSE: 0.101\n",
      "[Epoch  3200] ELBO: 702657; Loglik: -633068; Acc.: 0.480; Alpha RMSE: 0.077; Beta RMSE: 0.099\n",
      "[Epoch  3300] ELBO: 702367; Loglik: -633186; Acc.: 0.479; Alpha RMSE: 0.054; Beta RMSE: 0.090\n",
      "[Epoch  3400] ELBO: 699135; Loglik: -633843; Acc.: 0.479; Alpha RMSE: 0.055; Beta RMSE: 0.084\n",
      "[Epoch  3500] ELBO: 701259; Loglik: -634382; Acc.: 0.478; Alpha RMSE: 0.043; Beta RMSE: 0.069\n",
      "[Epoch  3600] ELBO: 698915; Loglik: -634362; Acc.: 0.478; Alpha RMSE: 0.048; Beta RMSE: 0.082\n",
      "[Epoch  3700] ELBO: 699969; Loglik: -635081; Acc.: 0.477; Alpha RMSE: 0.042; Beta RMSE: 0.066\n",
      "[Epoch  3800] ELBO: 700047; Loglik: -635113; Acc.: 0.477; Alpha RMSE: 0.045; Beta RMSE: 0.073\n",
      "[Epoch  3900] ELBO: 698685; Loglik: -636198; Acc.: 0.476; Alpha RMSE: 0.039; Beta RMSE: 0.071\n",
      "[Epoch  4000] ELBO: 696572; Loglik: -636284; Acc.: 0.477; Alpha RMSE: 0.033; Beta RMSE: 0.064\n",
      "[Epoch  4100] ELBO: 698703; Loglik: -636900; Acc.: 0.475; Alpha RMSE: 0.028; Beta RMSE: 0.065\n",
      "[Epoch  4200] ELBO: 697212; Loglik: -637333; Acc.: 0.474; Alpha RMSE: 0.041; Beta RMSE: 0.057\n",
      "[Epoch  4300] ELBO: 698115; Loglik: -637817; Acc.: 0.475; Alpha RMSE: 0.035; Beta RMSE: 0.050\n",
      "[Epoch  4400] ELBO: 695602; Loglik: -637714; Acc.: 0.474; Alpha RMSE: 0.038; Beta RMSE: 0.051\n",
      "[Epoch  4500] ELBO: 696933; Loglik: -638090; Acc.: 0.474; Alpha RMSE: 0.031; Beta RMSE: 0.044\n",
      "[Epoch  4600] ELBO: 695274; Loglik: -638981; Acc.: 0.474; Alpha RMSE: 0.035; Beta RMSE: 0.055\n",
      "[Epoch  4700] ELBO: 695965; Loglik: -639504; Acc.: 0.473; Alpha RMSE: 0.038; Beta RMSE: 0.059\n",
      "[Epoch  4800] ELBO: 693849; Loglik: -639486; Acc.: 0.473; Alpha RMSE: 0.026; Beta RMSE: 0.044\n",
      "[Epoch  4900] ELBO: 694198; Loglik: -639591; Acc.: 0.472; Alpha RMSE: 0.034; Beta RMSE: 0.044\n",
      "Elapsed time: 180.31926941871643 \n",
      "\n",
      "True alpha: [-0.8  0.8  1.2]\n",
      "Est. alpha: [-0.829606    0.81315774  1.2350409 ]\n",
      "\tBETA_XF1: -0.830\n",
      "\tBETA_XF2: 0.813\n",
      "\tBETA_XF3: 1.235\n",
      "\n",
      "True zeta: [-0.8  0.8  1.  -0.8  1.5]\n",
      "Est. zeta: [-0.80595     0.8408898   1.041418   -0.84733564  1.577763  ]\n",
      "\tBETA_XR1: -0.806\n",
      "\tBETA_XR2: 0.841\n",
      "\tBETA_XR3: 1.041\n",
      "\tBETA_XR4: -0.847\n",
      "\tBETA_XR5: 1.578\n",
      "\n"
     ]
    },
    {
     "data": {
      "image/png": "[encoded data removed]",
      "text/plain": [
       "<Figure size 432x288 with 1 Axes>"
      ]
     },
     "metadata": {
      "needs_background": "light"
     },
     "output_type": "display_data"
    },
    {
     "name": "stdout",
     "output_type": "stream",
     "text": [
      "CPU times: user 34min 6s, sys: 5min 53s, total: 39min 59s\n",
      "Wall time: 3min 3s\n"
     ]
    }
   ],
   "source": [
    "%%time\n",
    "\n",
    "from core.torch_mxl import TorchMXL\n",
    "\n",
    "# instantiate MXL model\n",
    "mxl = TorchMXL(dcm_dataset, batch_size=num_resp, use_inference_net=False, use_cuda=True)\n",
    "\n",
    "# run Bayesian inference (variational inference)\n",
    "results = mxl.infer(num_epochs=5000, true_alpha=true_alpha, true_beta=true_beta)"
   ]
  },
  {
   "cell_type": "markdown",
   "metadata": {},
   "source": [
    "The \"results\" dictionary containts a summary of the results of variational inference, including means of the posterior approximations for the different parameters in the model:"
   ]
  },
  {
   "cell_type": "code",
   "execution_count": 8,
   "metadata": {},
   "outputs": [
    {
     "data": {
      "text/plain": [
       "{'Estimation time': 180.31926941871643,\n",
       " 'Est. alpha': array([-0.829606  ,  0.81315774,  1.2350409 ], dtype=float32),\n",
       " 'Est. zeta': array([-0.80595   ,  0.8408898 ,  1.041418  , -0.84733564,  1.577763  ],\n",
       "       dtype=float32),\n",
       " 'Est. beta_n': array([[ 0.2527863 ,  1.2963054 ,  2.0226927 ,  0.0410569 ,  2.6035655 ],\n",
       "        [-0.75236315,  1.3283943 ,  1.0242969 , -0.99383736,  1.757081  ],\n",
       "        [ 0.20523058,  1.8672252 ,  2.3097181 ,  0.18797006,  1.9210131 ],\n",
       "        ...,\n",
       "        [-1.1407748 ,  0.84521985,  0.8143973 , -1.5126677 ,  1.1863397 ],\n",
       "        [-0.8388351 ,  1.3187057 ,  1.8243117 ,  0.23306377,  1.9968318 ],\n",
       "        [ 0.10205636,  1.1343317 ,  1.0688368 , -0.10653303,  1.0557183 ]],\n",
       "       dtype=float32),\n",
       " 'ELBO': 693668.0,\n",
       " 'Loglikelihood': -640475.4375,\n",
       " 'Accuracy': 0.4719580113887787}"
      ]
     },
     "execution_count": 8,
     "metadata": {},
     "output_type": "execute_result"
    }
   ],
   "source": [
    "results"
   ]
  },
  {
   "cell_type": "markdown",
   "metadata": {},
   "source": [
    "This interface is currently being improved to include additional output information, but additional information can be obtained from the attributes of the \"mxl\" object for now. "
   ]
  }
 ],
 "metadata": {
  "kernelspec": {
   "display_name": "Python 3 (ipykernel)",
   "language": "python",
   "name": "python3"
  },
  "language_info": {
   "codemirror_mode": {
    "name": "ipython",
    "version": 3
   },
   "file_extension": ".py",
   "mimetype": "text/x-python",
   "name": "python",
   "nbconvert_exporter": "python",
   "pygments_lexer": "ipython3",
   "version": "3.8.10"
  }
 },
 "nbformat": 4,
 "nbformat_minor": 4
}
